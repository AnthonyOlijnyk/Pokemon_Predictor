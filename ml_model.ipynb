{
 "cells": [
  {
   "cell_type": "code",
   "execution_count": 6,
   "metadata": {},
   "outputs": [],
   "source": [
    "import pandas as pd\n",
    "from sklearn.neighbors import KNeighborsClassifier\n",
    "from joblib import dump, load"
   ]
  },
  {
   "cell_type": "code",
   "execution_count": 7,
   "metadata": {},
   "outputs": [
    {
     "output_type": "execute_result",
     "data": {
      "text/plain": "abilities            ['Victory Star']\nagainst_bug                         1\nagainst_dark                        2\nagainst_dragon                      1\nagainst_electric                    1\nagainst_fairy                     0.5\nagainst_fight                     0.5\nagainst_fire                      0.5\nagainst_flying                      1\nagainst_ghost                       2\nagainst_grass                     0.5\nagainst_ground                      2\nagainst_ice                       0.5\nagainst_normal                      1\nagainst_poison                      1\nagainst_psychic                   0.5\nagainst_rock                        2\nagainst_steel                     0.5\nagainst_water                       2\nattack                            100\nbase_egg_steps                  30720\nbase_happiness                    100\nbase_total                        600\ncapture_rate                        3\nclassfication         Victory Pokémon\ndefense                           100\nexperience_growth             1250000\nheight_m                          0.4\nhp                                100\njapanese_name            Victiniビクティニ\nname                          Victini\npercentage_male                   NaN\npokedex_number                    494\nsp_attack                         100\nsp_defense                        100\nspeed                             100\ntype1                         psychic\ntype2                            fire\nweight_kg                           4\ngeneration                          5\nis_legendary                        1\nName: 493, dtype: object"
     },
     "metadata": {},
     "execution_count": 7
    }
   ],
   "source": [
    "data = pd.read_csv('pokemon.csv')\n",
    "data = data[:721]\n",
    "data['weight_kg'].fillna(data.weight_kg.mean() - 40, inplace=True)\n",
    "data['height_m'].fillna(data.height_m.mean() - 0.3, inplace=True)\n",
    "data.head()\n",
    "data.iloc[493]"
   ]
  },
  {
   "cell_type": "code",
   "execution_count": 8,
   "metadata": {},
   "outputs": [],
   "source": [
    "X = data[['hp', 'attack', 'defense', 'sp_attack', 'sp_defense', 'speed', 'capture_rate', 'height_m']]\n",
    "y = data['pokedex_number']\n",
    "lookup_pokemon_name = dict(zip(data.pokedex_number.unique(), data.name.unique()))"
   ]
  },
  {
   "cell_type": "code",
   "execution_count": 9,
   "metadata": {},
   "outputs": [
    {
     "output_type": "execute_result",
     "data": {
      "text/plain": "151"
     },
     "metadata": {},
     "execution_count": 9
    }
   ],
   "source": [
    "knn = KNeighborsClassifier(n_neighbors=1).fit(X, y)\n",
    "dump(knn, 'pokemon_classifier.joblib')\n",
    "\n",
    "lookup_pokemon_name.get(knn.predict([[100, 100, 100, 100, 100, 100, 40, 0.3]])[0])\n",
    "knn.predict([[100, 100, 100, 100, 100, 100, 40, 0.3]])[0]"
   ]
  },
  {
   "cell_type": "code",
   "execution_count": null,
   "metadata": {},
   "outputs": [],
   "source": []
  }
 ],
 "metadata": {
  "kernelspec": {
   "display_name": "Python 3",
   "language": "python",
   "name": "python3"
  },
  "language_info": {
   "codemirror_mode": {
    "name": "ipython",
    "version": 3
   },
   "file_extension": ".py",
   "mimetype": "text/x-python",
   "name": "python",
   "nbconvert_exporter": "python",
   "pygments_lexer": "ipython3",
   "version": "3.7.6"
  }
 },
 "nbformat": 4,
 "nbformat_minor": 4
}