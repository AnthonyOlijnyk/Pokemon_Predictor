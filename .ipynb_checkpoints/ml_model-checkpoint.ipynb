{
 "cells": [
  {
   "cell_type": "code",
   "execution_count": 1,
   "metadata": {},
   "outputs": [],
   "source": [
    "import pandas as pd\n",
    "from sklearn.neighbors import KNeighborsClassifier\n",
    "from joblib import dump, load"
   ]
  },
  {
   "cell_type": "code",
   "execution_count": 137,
   "metadata": {},
   "outputs": [
    {
     "data": {
      "text/plain": [
       "abilities            ['Victory Star']\n",
       "against_bug                         1\n",
       "against_dark                        2\n",
       "against_dragon                      1\n",
       "against_electric                    1\n",
       "against_fairy                     0.5\n",
       "against_fight                     0.5\n",
       "against_fire                      0.5\n",
       "against_flying                      1\n",
       "against_ghost                       2\n",
       "against_grass                     0.5\n",
       "against_ground                      2\n",
       "against_ice                       0.5\n",
       "against_normal                      1\n",
       "against_poison                      1\n",
       "against_psychic                   0.5\n",
       "against_rock                        2\n",
       "against_steel                     0.5\n",
       "against_water                       2\n",
       "attack                            100\n",
       "base_egg_steps                  30720\n",
       "base_happiness                    100\n",
       "base_total                        600\n",
       "capture_rate                        3\n",
       "classfication         Victory Pokémon\n",
       "defense                           100\n",
       "experience_growth             1250000\n",
       "height_m                          0.4\n",
       "hp                                100\n",
       "japanese_name            Victiniビクティニ\n",
       "name                          Victini\n",
       "percentage_male                   NaN\n",
       "pokedex_number                    494\n",
       "sp_attack                         100\n",
       "sp_defense                        100\n",
       "speed                             100\n",
       "type1                         psychic\n",
       "type2                            fire\n",
       "weight_kg                           4\n",
       "generation                          5\n",
       "is_legendary                        1\n",
       "Name: 493, dtype: object"
      ]
     },
     "execution_count": 137,
     "metadata": {},
     "output_type": "execute_result"
    }
   ],
   "source": [
    "data = pd.read_csv('pokemon.csv')\n",
    "data['weight_kg'].fillna(data.weight_kg.mean() - 40, inplace=True)\n",
    "data['height_m'].fillna(data.height_m.mean() - 0.3, inplace=True)\n",
    "data.head()\n",
    "data.iloc[493]"
   ]
  },
  {
   "cell_type": "code",
   "execution_count": 139,
   "metadata": {},
   "outputs": [],
   "source": [
    "X = data[['hp', 'attack', 'defense', 'sp_attack', 'sp_defense', 'speed', 'capture_rate', 'height_m']]\n",
    "y = data['pokedex_number']\n",
    "lookup_pokemon_name = dict(zip(data.pokedex_number.unique(), data.name.unique()))"
   ]
  },
  {
   "cell_type": "code",
   "execution_count": 144,
   "metadata": {},
   "outputs": [
    {
     "data": {
      "text/plain": [
       "'Mew'"
      ]
     },
     "execution_count": 144,
     "metadata": {},
     "output_type": "execute_result"
    }
   ],
   "source": [
    "knn = KNeighborsClassifier(n_neighbors=1).fit(X, y)\n",
    "dump(knn, 'pokemon_classifier.joblib')\n",
    "\n",
    "lookup_pokemon_name.get(knn.predict([[100, 100, 100, 100, 100, 100, 40, 0.3]])[0])"
   ]
  }
 ],
 "metadata": {
  "kernelspec": {
   "display_name": "Python 3",
   "language": "python",
   "name": "python3"
  },
  "language_info": {
   "codemirror_mode": {
    "name": "ipython",
    "version": 3
   },
   "file_extension": ".py",
   "mimetype": "text/x-python",
   "name": "python",
   "nbconvert_exporter": "python",
   "pygments_lexer": "ipython3",
   "version": "3.7.6"
  }
 },
 "nbformat": 4,
 "nbformat_minor": 4
}
