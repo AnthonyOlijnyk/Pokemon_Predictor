{
 "cells": [
  {
   "cell_type": "code",
   "execution_count": null,
   "metadata": {},
   "outputs": [],
   "source": [
    "import pandas as pd"
   ]
  },
  {
   "cell_type": "code",
   "execution_count": null,
   "metadata": {},
   "outputs": [],
   "source": [
    "data = pd.read_csv('pokemon.csv')\n",
    "data['weight_kg'].fillna(data.weight_kg.mean() - 40, inplace=True)\n",
    "data['height_m'].fillna(data.height_m.mean() - 0.3, inplace=True)\n",
    "data.head()"
   ]
  },
  {
   "cell_type": "code",
   "execution_count": null,
   "metadata": {},
   "outputs": [],
   "source": [
    "MAX_HP = max(data.hp)\n",
    "MIN_HP = min(data.hp)\n",
    "MAX_ATTACK = max(data.attack)\n",
    "MIN_ATTACK = min(data.attack)\n",
    "MAX_DEFENSE = max(data.defense)\n",
    "MIN_DEFENSE = min(data.defense)\n",
    "MAX_SP_ATTACK = max(data.sp_attack)\n",
    "MIN_SP_ATTACK = min(data.sp_attack)\n",
    "MAX_SP_DEFENSE = max(data.sp_defense)\n",
    "MIN_SP_DEFENSE = min(data.sp_defense)\n",
    "MAX_SPEED = max(data.speed)\n",
    "MIN_SPEED = min(data.speed)\n",
    "MAX_CAPTURE_RATE = max(data.capture_rate)\n",
    "MIN_CAPTURE_RATE = min(data.capture_rate)\n",
    "MAX_WEIGHT = max(data.weight_kg)\n",
    "MIN_WEIGHT = min(data.weight_kg)\n",
    "MAX_HEIGHT = max(data.height_m)\n",
    "MIN_HEIGHT = min(data.height_m)"
   ]
  },
  {
   "cell_type": "code",
   "execution_count": null,
   "metadata": {},
   "outputs": [],
   "source": [
    "hp = input(\"pick an hp value:\\n\")\n",
    "attack = input(\"pick an attack value:\\n\")\n",
    "defense = input(\"pick a defense value:\\n\")\n",
    "sp_attack = input(\"pick an sp_attack value:\\n\")\n",
    "sp_defense = input(\"pick an sp_defense value:\\n\")\n",
    "speed = input(\"pick a speed value:\\n\")\n",
    "capture_rate = input(\"pick a capture rate:\\n\")\n",
    "weight = input(\"pick a weight value:\\n\")\n",
    "height = input(\"pick a height value:\\n\")"
   ]
  },
  {
   "cell_type": "code",
   "execution_count": null,
   "metadata": {},
   "outputs": [],
   "source": [
    "pokemon_error_dict = dict()\n",
    "for i in range(len(data.index)):\n",
    "    error = abs(\n",
    "        abs((int(data.hp[i]) - int(hp))) +\n",
    "        abs((int(data.attack[i]) - int(attack))) +\n",
    "        (abs((int(data.defense[i]) - int(defense))) / 5) +\n",
    "        abs((int(data.sp_attack[i]) - int(sp_attack))) +\n",
    "        (abs((int(data.sp_defense[i]) - int(sp_defense))) / 5) +\n",
    "        abs((int(data.speed[i]) - int(speed))) +\n",
    "        (abs((int(data.capture_rate[i]) - int(capture_rate))) / 5) +\n",
    "        (abs((float(data.weight_kg[i]) - float(weight))) / 5) +\n",
    "        (abs((float(data.height_m[i]) - float(height))) * 10)\n",
    "    )\n",
    "    pokemon_error_dict[data.name[i]] = error\n",
    "pokemon_compatibility = sorted(pokemon_error_dict.items(), key = lambda x: x[1])"
   ]
  },
  {
   "cell_type": "code",
   "execution_count": null,
   "metadata": {},
   "outputs": [],
   "source": [
    "print(\"Most compatible\\n\")\n",
    "for pokemon, error in pokemon_compatibility[:6]:\n",
    "    print(pokemon, error)\n",
    "print(\"\\nleast compatible\\n\")\n",
    "for pokemon, error in pokemon_compatibility[-1:-7:-1]:\n",
    "    print(pokemon, error)"
   ]
  }
 ],
 "metadata": {
  "kernelspec": {
   "display_name": "Python 3",
   "language": "python",
   "name": "python3"
  },
  "language_info": {
   "codemirror_mode": {
    "name": "ipython",
    "version": 3
   },
   "file_extension": ".py",
   "mimetype": "text/x-python",
   "name": "python",
   "nbconvert_exporter": "python",
   "pygments_lexer": "ipython3",
   "version": "3.7.6"
  }
 },
 "nbformat": 4,
 "nbformat_minor": 4
}
